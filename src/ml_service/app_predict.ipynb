{
 "cells": [
  {
   "cell_type": "code",
   "execution_count": 2,
   "id": "12f38ee0",
   "metadata": {},
   "outputs": [
    {
     "name": "stdout",
     "output_type": "stream",
     "text": [
      "Predicted Startup Count: 12\n",
      "Predicted Startup Count: 12.25\n"
     ]
    }
   ],
   "source": [
    "import joblib\n",
    "import pandas as pd\n",
    "\n",
    "# Load the trained model\n",
    "model_path = \"../../models/startup_model.pkl\"\n",
    "model = joblib.load(model_path)\n",
    "\n",
    "# Example input (you can replace with dynamic values)\n",
    "new_data = pd.DataFrame([{\n",
    "    \"Year\": 2025,\n",
    "    \"State\": \"Karnataka\",\n",
    "    \"Industry\": \"Artificial Intelligence\"\n",
    "}])\n",
    "predicted_count = model.predict(new_data)[0]\n",
    "predicted_count = round(predicted_count)  # or int(predicted_count)\n",
    "print(\"Predicted Startup Count:\", predicted_count)\n",
    "\n",
    "# Predict\n",
    "prediction = model.predict(new_data)\n",
    "print(\"Predicted Startup Count:\", prediction[0])\n"
   ]
  }
 ],
 "metadata": {
  "kernelspec": {
   "display_name": "venv",
   "language": "python",
   "name": "python3"
  },
  "language_info": {
   "codemirror_mode": {
    "name": "ipython",
    "version": 3
   },
   "file_extension": ".py",
   "mimetype": "text/x-python",
   "name": "python",
   "nbconvert_exporter": "python",
   "pygments_lexer": "ipython3",
   "version": "3.11.9"
  }
 },
 "nbformat": 4,
 "nbformat_minor": 5
}
